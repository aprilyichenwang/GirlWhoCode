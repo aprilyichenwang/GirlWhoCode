{
 "cells": [
  {
   "cell_type": "markdown",
   "metadata": {},
   "source": [
    "# Girl Who Code - Map Visualization using Python and Folium"
   ]
  },
  {
   "cell_type": "markdown",
   "metadata": {},
   "source": [
    "### Part I. Introduction - 5 mins\n",
    "- Presentor: April Liu\n",
    "- Xoom Risk Data Science"
   ]
  },
  {
   "cell_type": "markdown",
   "metadata": {},
   "source": [
    "Hi, today we are going to learn more on Python and a Package called Folium!!\n",
    "\n",
    "As data scientists, we work with a lot of data every day. Sometimes, in order to work more efficiently and present results more vividly, we need to utilize powerful tools such as visualization.\n",
    "\n",
    "Folium a good python package for visualization. It has a lot of cool functions, and it produces many of the amazing map views. Hopefully by the end of the day, you will be able to create your favorite map view with your favorite place in the world."
   ]
  },
  {
   "cell_type": "markdown",
   "metadata": {},
   "source": [
    "**Today's Goal**\n",
    "1. Learn how to visulize a map and play with different mapping syles\n",
    "2. Learn how python list work\n",
    "3. Learn how to put various landmark in the map\n",
    "4. Create your favoriate city map with your favoriate travel or local spots"
   ]
  },
  {
   "cell_type": "markdown",
   "metadata": {},
   "source": [
    "**A Quick Intro of Jupyter Notebook**\n",
    "\n",
    "- command box - sign of finishing running (number shown up)\n",
    "- shortcut: \"shift + return\" or 'Run' button\n",
    "- make sure the command box is run sequentially, especially in the demo round"
   ]
  },
  {
   "cell_type": "markdown",
   "metadata": {},
   "source": [
    "### Part II. The DEMO - 20 - 30 mins"
   ]
  },
  {
   "cell_type": "code",
   "execution_count": null,
   "metadata": {},
   "outputs": [],
   "source": [
    "import warnings\n",
    "warnings.filterwarnings('ignore')"
   ]
  },
  {
   "cell_type": "code",
   "execution_count": null,
   "metadata": {},
   "outputs": [],
   "source": [
    "# import the library\n",
    "import folium"
   ]
  },
  {
   "cell_type": "markdown",
   "metadata": {},
   "source": [
    "### I. Show the map of Portland, Oregon"
   ]
  },
  {
   "cell_type": "code",
   "execution_count": null,
   "metadata": {},
   "outputs": [],
   "source": [
    "# Lat, Lon of Portland,Oregon: 45°52'36\"N 122°67'5\"W\n",
    "\n",
    "m = folium.Map(location=[45.5236, -122.675])\n",
    "m"
   ]
  },
  {
   "cell_type": "markdown",
   "metadata": {},
   "source": [
    "**Given latitude and longitude of San Francisco, can you plot the map of SF?**"
   ]
  },
  {
   "cell_type": "code",
   "execution_count": null,
   "metadata": {},
   "outputs": [],
   "source": [
    "Lat_Long_SF=[37.7,-122.4]"
   ]
  },
  {
   "cell_type": "code",
   "execution_count": null,
   "metadata": {},
   "outputs": [],
   "source": [
    "m = folium.Map(location = Lat_Long_SF)\n",
    "m"
   ]
  },
  {
   "cell_type": "markdown",
   "metadata": {},
   "source": [
    "### II. Explore Different Mapping Style"
   ]
  },
  {
   "cell_type": "code",
   "execution_count": null,
   "metadata": {},
   "outputs": [],
   "source": [
    "# YOUR TASK: \n",
    "# 1. can you change the string from 'Stamen Terrain' to 'Stamen Toner', and see what happens?\n",
    "# 2. have you tried changing it to \"Stamen Watercolor\"?\n",
    "\n",
    "m = folium.Map(location=Lat_Long_SF, tiles='Stamen Terrain')  \n",
    "m"
   ]
  },
  {
   "cell_type": "markdown",
   "metadata": {},
   "source": [
    "### III. Introducing Python coding concept No.1 - List\n",
    "\n",
    "- Below we define a variable style, we call this a list\n",
    "- a list has sequence that starts with 0 in python as the first index"
   ]
  },
  {
   "cell_type": "code",
   "execution_count": null,
   "metadata": {},
   "outputs": [],
   "source": [
    "style=['OpenStreetMap','Stamen Terrain','Stamen Toner','Stamen Watercolor']\n",
    "\n",
    "# Q: How many map style options do we have, or how many elements are there in this list?\n",
    "print(len(style))"
   ]
  },
  {
   "cell_type": "code",
   "execution_count": null,
   "metadata": {},
   "outputs": [],
   "source": [
    "# Q: how to print out the first element of this list\n",
    "print(style[2])"
   ]
  },
  {
   "cell_type": "code",
   "execution_count": null,
   "metadata": {},
   "outputs": [],
   "source": [
    "# YOUR TASK\n",
    "# How to retrive the value of Stamen Toner?\n",
    "\n",
    "print(style[])  # please fill in what is missing then click Run"
   ]
  },
  {
   "cell_type": "code",
   "execution_count": null,
   "metadata": {},
   "outputs": [],
   "source": [
    "# YOUR TASK\n",
    "# change the number to 0,1,2,3, see what happens?\n",
    "# note, don't enter a number that is bigger than 3, REMEMBER, the list only has 4 elements, and index starts at 0\n",
    "\n",
    "m = folium.Map(location=Lat_Long_SF, tiles=style[1]) \n",
    "m"
   ]
  },
  {
   "cell_type": "markdown",
   "metadata": {},
   "source": [
    "### IV. Wonderful! Now you have learned how to change the map style and learned a bit how python list work, let us put some landmarks on the map - Portland, Oregon"
   ]
  },
  {
   "cell_type": "code",
   "execution_count": null,
   "metadata": {},
   "outputs": [],
   "source": [
    "# First, set up the general location of Mt Hood National Forest in Portland, Oregon\n",
    "\n",
    "m = folium.Map(\n",
    "    location=[45.372, -121.6972],\n",
    "    zoom_start=8.5,\n",
    "    tiles=style[0]\n",
    ")\n",
    "m"
   ]
  },
  {
   "cell_type": "code",
   "execution_count": null,
   "metadata": {},
   "outputs": [],
   "source": [
    "# Let us have a more zoomed-in view, so we see more clearly\n",
    "m.zoom_start=12\n",
    "\n",
    "# Add the first Landmark1 - Mt Hood Meadows; cloud icon\n",
    "\n",
    "folium.Marker(\n",
    "    location=[45.3288, -121.6625],  # where Mt Hood Meadow is located\n",
    "    popup='Mt. Hood Meadows',  # popup text you want to see\n",
    "    icon=folium.Icon(icon='cloud')  # what about a cloud icon?\n",
    ").add_to(m)\n",
    "\n",
    "m"
   ]
  },
  {
   "cell_type": "markdown",
   "metadata": {},
   "source": [
    "Now we see a cloud sign in the map, that is where Mt. Hood Meadows is, pretty cool right?\n",
    "\n",
    "Let us also add Timberline Lodge and Info-sign too :)"
   ]
  },
  {
   "cell_type": "code",
   "execution_count": null,
   "metadata": {},
   "outputs": [],
   "source": [
    "# Landmark2 - Timberline Lodge; green\n",
    "folium.Marker(\n",
    "    location=[45.3311, -121.7113], # where Timberline Lodge is located\n",
    "    popup='Timberline Lodge',\n",
    "    icon=folium.Icon(color='green')\n",
    ").add_to(m)\n",
    "\n",
    "\n",
    "# Landmark3 - Mt Hood Meadows; info-sign\n",
    "folium.Marker(\n",
    "    location=[45.3300, -121.6823],\n",
    "    popup='Some Other Location', # feel free to change the text you feel more appropriate\n",
    "    icon=folium.Icon(color='red', icon='info-sign')\n",
    ").add_to(m)\n",
    "\n",
    "m"
   ]
  },
  {
   "cell_type": "markdown",
   "metadata": {},
   "source": [
    "### V. Now, let us work on the fun parts. Let us add our favoriate landmarks in SF\n",
    "\n",
    "We are going to create a map, and then add a few landmarks on the map. Let us pick use a map of San Francisco;"
   ]
  },
  {
   "cell_type": "code",
   "execution_count": null,
   "metadata": {},
   "outputs": [],
   "source": [
    "# First, Let us plot our basic layer- the map of San Francisco\n",
    "\n",
    "Lat_Long_SF = [37.80,-122.43]\n",
    "\n",
    "# note, we changed the zoom_start from 12 to 13, to have a slightly more detailed map view\n",
    "m_sf = folium.Map(\n",
    "    location=Lat_Long_SF,\n",
    "    tiles=style[0],\n",
    "    zoom_start=13  \n",
    ")\n",
    "\n",
    "m_sf"
   ]
  },
  {
   "cell_type": "markdown",
   "metadata": {},
   "source": [
    "#### Let us add a few places we feel proud of, as a resident in SF\n",
    "Where did you take your friends and family last time they are in SF?\n",
    "\n",
    "Here is what I have got from the web, cool thing is Ipython Notebook has the ability to insert image on the notebook."
   ]
  },
  {
   "cell_type": "code",
   "execution_count": null,
   "metadata": {},
   "outputs": [],
   "source": [
    "from IPython.display import Image\n",
    "Image(filename='Top_places_to_go_SF.png')"
   ]
  },
  {
   "cell_type": "code",
   "execution_count": null,
   "metadata": {},
   "outputs": [],
   "source": [
    "# first, let us add Golden Gate Bridge\n",
    "folium.CircleMarker(\n",
    "    location=[37.8199328,-122.4804438],\n",
    "    radius=50,\n",
    "    popup='A Must See - Golden Gate Bridge',\n",
    "    color='blue',\n",
    "    fill=True\n",
    ").add_to(m_sf)\n",
    "\n",
    "m_sf"
   ]
  },
  {
   "cell_type": "code",
   "execution_count": null,
   "metadata": {},
   "outputs": [],
   "source": [
    "# Fisherman's Wharf\n",
    "\n",
    "# lat, lon of Fisherman's Wharf is 37.8081102,-122.4210084\n",
    "\n",
    "folium.CircleMarker(\n",
    "    radius = 15,\n",
    "    location = [ 37.8081102,   -122.4210084 ],   \n",
    "    popup = \"Fisherman's Wharf, Best Clam Chowder\", \n",
    "    color ='red', # change to green or yellow?\n",
    "    fill = True\n",
    ").add_to(m_sf)\n",
    "\n",
    "m_sf"
   ]
  },
  {
   "cell_type": "code",
   "execution_count": null,
   "metadata": {},
   "outputs": [],
   "source": [
    "# One place that Xoom people enjoy coming to work every day!!!\n",
    "\n",
    "folium.CircleMarker(\n",
    "    radius=20,\n",
    "    location=[],  # fill in the lat, lon, by looking up where Xoom is, using GoogleMap\n",
    "    popup='XOOM YAH! whatever comment you would like', # change the content inside the quote\n",
    "    color='green',\n",
    "    fill=True,\n",
    ").add_to(m_sf)\n",
    "\n",
    "\n",
    "m_sf"
   ]
  },
  {
   "cell_type": "markdown",
   "metadata": {},
   "source": [
    "### Part III. Can you add more locations? What is your favorite place in San Francisco? - 15 mins"
   ]
  },
  {
   "cell_type": "markdown",
   "metadata": {},
   "source": [
    "### Exercise: \n",
    "- Try it yourself, put 2-3 your favoriate spots in San Francisco\n",
    "- your home?\n",
    "- your favoriate cafe or resturant?\n",
    "- your favoriate beach or park?"
   ]
  },
  {
   "cell_type": "code",
   "execution_count": null,
   "metadata": {},
   "outputs": [],
   "source": [
    "Image(filename='boba_guys.jpg')"
   ]
  },
  {
   "cell_type": "code",
   "execution_count": null,
   "metadata": {},
   "outputs": [],
   "source": [
    "Image(filename='stawberry_matcha_latte.jpg')"
   ]
  },
  {
   "cell_type": "markdown",
   "metadata": {},
   "source": [
    "**Start Code & Review**"
   ]
  },
  {
   "cell_type": "code",
   "execution_count": null,
   "metadata": {},
   "outputs": [],
   "source": [
    "# TASK FOR YOU:\n",
    "# Let us review what we have learned, and modify below code to put your favoriate places in SF\n",
    "\n",
    "# Provide geo coodinates of the city of San Francisco \n",
    "Lat_Long_SF = [37.77,-122.41]\n",
    "\n",
    "# Set up a layer of basic Map\n",
    "sf2 = folium.Map(\n",
    "    location=Lat_Long_SF,\n",
    "    tiles=style[0],\n",
    "    zoom_start=12  # feel free to make the number smaller or bigger to Xoom out or Xoom In\n",
    ")\n",
    "\n",
    "# Adding the first landmark\n",
    "folium.CircleMarker(\n",
    "    radius = 40,\n",
    "    location = [ 37.8081102,   -122.4210084 ],   \n",
    "    popup = \"Fisherman Wharf - Best Clam Chowder\", \n",
    "    color ='red', # change to green or yellow\n",
    "    fill = True\n",
    ").add_to(sf2)\n",
    "\n",
    "\n",
    "# Adding the 2nd landmark\n",
    "folium.CircleMarker(\n",
    "    radius = 10,\n",
    "    location = [ 37.7911914,-122.4004934 ], # we got the location coordinates from Google Map\n",
    "    popup = \"Xoom - Best Work Place Ever\", \n",
    "    color ='green', # change to green or yellow\n",
    "    fill = True\n",
    ").add_to(sf2)\n",
    "\n",
    "# Let us see what the map looks like\n",
    "sf2"
   ]
  },
  {
   "cell_type": "code",
   "execution_count": null,
   "metadata": {},
   "outputs": [],
   "source": [
    "# Clean up the map setting, and redo the previous step\n",
    "# del sf2 "
   ]
  },
  {
   "cell_type": "markdown",
   "metadata": {},
   "source": [
    "### Exercise for Stellar Learner: \n",
    "\n",
    "- Given what you have learned, can you create a map view with your favoriate locations of another city, or country? Say China or Italy? \n",
    "\n",
    "- Can you modify the sf code to make that happen?\n",
    "- Please let any of the volunteer know if you encounter any questions\n",
    "\n",
    "**A few TIPS**:\n",
    "\n",
    "1. Feel free to modify the sf code (the template we just showed you earlier) to create your map\n",
    "2. First, think about where the location you want to plot in the map\n",
    "3. Second, find the geo coordinates (remember the google map trick?)\n",
    "4. Third, you can always play with the zoom setting, to zoom in and out as needed\n",
    "5. If the circle is not pretty enough, you have a few options such as cloud icon :) \n",
    "\n",
    "**Good Luck! And please share with us your accomplishment when you are done!**"
   ]
  },
  {
   "cell_type": "markdown",
   "metadata": {},
   "source": [
    "**Learn More about the package of Folium.Map, by running below code**"
   ]
  },
  {
   "cell_type": "code",
   "execution_count": null,
   "metadata": {},
   "outputs": [],
   "source": [
    "?folium.Map"
   ]
  },
  {
   "cell_type": "markdown",
   "metadata": {},
   "source": [
    "### END"
   ]
  }
 ],
 "metadata": {
  "kernelspec": {
   "display_name": "Python 3",
   "language": "python",
   "name": "python3"
  },
  "language_info": {
   "codemirror_mode": {
    "name": "ipython",
    "version": 2
   },
   "file_extension": ".py",
   "mimetype": "text/x-python",
   "name": "python",
   "nbconvert_exporter": "python",
   "pygments_lexer": "ipython2",
   "version": "2.7.15"
  }
 },
 "nbformat": 4,
 "nbformat_minor": 2
}
